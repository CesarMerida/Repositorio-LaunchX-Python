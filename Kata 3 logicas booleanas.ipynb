{
 "cells": [
  {
   "cell_type": "markdown",
   "metadata": {},
   "source": [
    "KATA 3 USAR LOGICA BOOLEANA"
   ]
  },
  {
   "cell_type": "code",
   "execution_count": 5,
   "metadata": {},
   "outputs": [
    {
     "name": "stdout",
     "output_type": "stream",
     "text": [
      "Alerta un peligroso asteroide se acerca rapidamente\n"
     ]
    }
   ],
   "source": [
    "asteroid = 49\n",
    "if asteroid >= 25:\n",
    "   print(\"Alerta un peligroso asteroide se acerca rapidamente\")\n",
    "else:\n",
    "   print(\"Nada que temer por ahora\")\n",
    "\n",
    "\n"
   ]
  },
  {
   "cell_type": "code",
   "execution_count": 19,
   "metadata": {},
   "outputs": [
    {
     "name": "stdout",
     "output_type": "stream",
     "text": [
      "Miren! ¡Hay una luz en el cielo!\n"
     ]
    }
   ],
   "source": [
    "asteroid = 25\n",
    "if asteroid > 20:\n",
    "    print('Miren! ¡Hay una luz en el cielo!')\n",
    "elif asteroid == 20:\n",
    "    print('Miren! ¡Hay una luz en el cielo!')\n",
    "else:\n",
    "    print('Nada que mostrar')"
   ]
  },
  {
   "cell_type": "code",
   "execution_count": 17,
   "metadata": {},
   "outputs": [
    {
     "name": "stdout",
     "output_type": "stream",
     "text": [
      "Se quemara al ir entrando a la atmosfera\n"
     ]
    }
   ],
   "source": [
    "velocidad_asteroid = 19\n",
    "tamano_asteroid = 10\n",
    "if velocidad_asteroid > 25 and tamano_asteroid >25:\n",
    "    print(\"El asteroide causara mucho daño\")\n",
    "elif velocidad_asteroid >= 20:\n",
    "    print('Miren! ¡Hay una luz en el cielo!')    \n",
    "elif tamano_asteroid < 25:\n",
    "   print(\"Se quemara al ir entrando a la atmosfera\")\n",
    "else:\n",
    "    print(\"nada que ver\")    "
   ]
  }
 ],
 "metadata": {
  "interpreter": {
   "hash": "8e3a315716ad14c28536fc06a3bf84422876aead64659cdeb406310be042cfb9"
  },
  "kernelspec": {
   "display_name": "Python 3.10.2 64-bit",
   "language": "python",
   "name": "python3"
  },
  "language_info": {
   "codemirror_mode": {
    "name": "ipython",
    "version": 3
   },
   "file_extension": ".py",
   "mimetype": "text/x-python",
   "name": "python",
   "nbconvert_exporter": "python",
   "pygments_lexer": "ipython3",
   "version": "3.10.2"
  },
  "orig_nbformat": 4
 },
 "nbformat": 4,
 "nbformat_minor": 2
}
